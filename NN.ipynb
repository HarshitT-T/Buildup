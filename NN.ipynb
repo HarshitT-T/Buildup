{
 "cells": [
  {
   "cell_type": "code",
   "execution_count": 1,
   "id": "14321cda",
   "metadata": {},
   "outputs": [],
   "source": [
    "import os\n",
    "import numpy as np\n",
    "from tensorflow import keras\n",
    "from pyrsgis import raster\n",
    "from pyrsgis.convert import changeDimension\n",
    "from sklearn.model_selection import train_test_split\n",
    "from sklearn.metrics import confusion_matrix, precision_score, recall_score"
   ]
  },
  {
   "cell_type": "code",
   "execution_count": 19,
   "id": "72ea7bca",
   "metadata": {},
   "outputs": [],
   "source": [
    "mxBangalore = r\"C:\\Users\\harsh\\Desktop\\LCC-U-NN\\l5_Bangalore2011_raw.tif\"\n",
    "builtupBangalore = r\"C:\\Users\\harsh\\Desktop\\LCC-U-NN\\l5_Bangalore2011_builtup.tif\"\n",
    "Shillong = r\"C:\\Users\\harsh\\Desktop\\LCC-U-NN\\Delhi_L5_B1to7.tif\""
   ]
  },
  {
   "cell_type": "code",
   "execution_count": 20,
   "id": "dd39816b",
   "metadata": {},
   "outputs": [],
   "source": [
    "ds1, featuresBangalore = raster.read(mxBangalore, bands='all')\n",
    "ds2, labelBangalore = raster.read(builtupBangalore, bands=1)\n",
    "ds3, Shillong_data  = raster.read(Shillong , bands='all')"
   ]
  },
  {
   "cell_type": "code",
   "execution_count": 21,
   "id": "6d74ee9c",
   "metadata": {
    "scrolled": false
   },
   "outputs": [
    {
     "data": {
      "text/plain": [
       "array([ 10.5,  11. ,  11.5,  12. ,  12.5,  13. ,  13.5,  14. ,  14.5,\n",
       "        15. ,  15.5,  16. ,  16.5,  17. ,  17.5,  18. ,  18.5,  19. ,\n",
       "        19.5,  20. ,  20.5,  21. ,  21.5,  22. ,  22.5,  23. ,  23.5,\n",
       "        24. ,  24.5,  25. ,  25.5,  26. ,  26.5,  27. ,  27.5,  28. ,\n",
       "        28.5,  29. ,  29.5,  30. ,  30.5,  31. ,  31.5,  32. ,  32.5,\n",
       "        33. ,  33.5,  34. ,  34.5,  35. ,  35.5,  36. ,  36.5,  37. ,\n",
       "        37.5,  38. ,  38.5,  39. ,  39.5,  40. ,  40.5,  41. ,  41.5,\n",
       "        42. ,  42.5,  43. ,  43.5,  44. ,  44.5,  45. ,  45.5,  46. ,\n",
       "        46.5,  47. ,  47.5,  48. ,  48.5,  49. ,  49.5,  50. ,  50.5,\n",
       "        51. ,  51.5,  52. ,  52.5,  53. ,  53.5,  54. ,  54.5,  55. ,\n",
       "        55.5,  56. ,  56.5,  57. ,  57.5,  58. ,  58.5,  59. ,  59.5,\n",
       "        60. ,  60.5,  61. ,  61.5,  62. ,  62.5,  63. ,  63.5,  64. ,\n",
       "        64.5,  65. ,  65.5,  66. ,  66.5,  67. ,  67.5,  68. ,  68.5,\n",
       "        69. ,  69.5,  70. ,  70.5,  71. ,  71.5,  72. ,  72.5,  73. ,\n",
       "        73.5,  74. ,  74.5,  75. ,  75.5,  76. ,  76.5,  77. ,  77.5,\n",
       "        78. ,  78.5,  79. ,  79.5,  80. ,  80.5,  81. ,  81.5,  82. ,\n",
       "        82.5,  83. ,  83.5,  84. ,  84.5,  85. ,  85.5,  86. ,  86.5,\n",
       "        87. ,  87.5,  88. ,  88.5,  89. ,  89.5,  90. ,  90.5,  91. ,\n",
       "        91.5,  92. ,  92.5,  93. ,  93.5,  94. ,  94.5,  95. ,  95.5,\n",
       "        96. ,  96.5,  97. ,  97.5,  98. ,  98.5,  99. ,  99.5, 100. ,\n",
       "       100.5, 101. , 101.5, 102. , 102.5, 103. , 103.5, 104. , 104.5,\n",
       "       105. , 105.5, 106. , 106.5, 107. , 107.5, 108. , 108.5, 109. ,\n",
       "       109.5, 110. , 110.5, 111. , 111.5, 112. , 112.5, 113. , 113.5,\n",
       "       114. , 114.5, 115. , 115.5, 116. , 116.5, 117. , 117.5, 118. ,\n",
       "       118.5, 119. , 119.5, 120. , 120.5, 121. , 121.5, 122. , 122.5,\n",
       "       123. , 123.5, 124. , 124.5, 125. , 125.5, 126. , 126.5, 127. ,\n",
       "       127.5, 128. , 128.5, 129. , 129.5, 130. , 130.5, 131. , 131.5,\n",
       "       132. , 132.5, 133. , 134. , 134.5, 135. , 135.5, 136. , 136.5,\n",
       "       137. , 138. , 138.5, 139. , 139.5, 140. , 140.5, 141. , 141.5,\n",
       "       142. , 142.5, 143. , 143.5, 144. , 144.5, 145. , 145.5, 146. ,\n",
       "       146.5, 147. , 147.5, 148. , 148.5, 149. , 149.5, 150. , 150.5,\n",
       "       151. , 151.5, 152. , 152.5, 153. , 153.5, 154. , 154.5, 155. ,\n",
       "       155.5, 156. , 156.5, 157. , 157.5, 158. , 158.5, 159. , 159.5,\n",
       "         nan])"
      ]
     },
     "execution_count": 21,
     "metadata": {},
     "output_type": "execute_result"
    }
   ],
   "source": [
    "np.unique(Shillong_data)"
   ]
  },
  {
   "cell_type": "code",
   "execution_count": 22,
   "id": "ec4a832b",
   "metadata": {},
   "outputs": [
    {
     "data": {
      "text/plain": [
       "dtype('float64')"
      ]
     },
     "execution_count": 22,
     "metadata": {},
     "output_type": "execute_result"
    }
   ],
   "source": [
    "Shillong_data.dtype"
   ]
  },
  {
   "cell_type": "code",
   "execution_count": 23,
   "id": "b03c4ef1",
   "metadata": {},
   "outputs": [
    {
     "data": {
      "text/plain": [
       "dtype('float32')"
      ]
     },
     "execution_count": 23,
     "metadata": {},
     "output_type": "execute_result"
    }
   ],
   "source": [
    "featuresBangalore.dtype"
   ]
  },
  {
   "cell_type": "code",
   "execution_count": 24,
   "id": "3d5a290b",
   "metadata": {},
   "outputs": [
    {
     "name": "stdout",
     "output_type": "stream",
     "text": [
      "[[[ 30.  30.  30. ...  27.  26.  25.]\n",
      "  [ 30.  29.  29. ...  26.  25.  25.]\n",
      "  [ 32.  31.  28. ...  25.  25.  25.]\n",
      "  ...\n",
      "  [ 36.  36.  37. ...  30.  31.  30.]\n",
      "  [ 36.  37.  37. ...  29.  30.  29.]\n",
      "  [ 32.  33.  35. ...  28.  29.  29.]]\n",
      "\n",
      " [[ 28.  31.  31. ...  28.  28.  26.]\n",
      "  [ 30.  28.  28. ...  27.  27.  28.]\n",
      "  [ 35.  34.  27. ...  26.  25.  26.]\n",
      "  ...\n",
      "  [ 46.  49.  50. ...  32.  35.  34.]\n",
      "  [ 49.  52.  52. ...  30.  32.  31.]\n",
      "  [ 41.  43.  47. ...  29.  30.  31.]]\n",
      "\n",
      " [[ 70.  67.  63. ...  62.  62.  61.]\n",
      "  [ 61.  69.  66. ...  61.  60.  62.]\n",
      "  [ 65.  64.  66. ...  60.  58.  59.]\n",
      "  ...\n",
      "  [ 67.  69.  68. ...  58.  59.  60.]\n",
      "  [ 69.  67.  65. ...  57.  57.  58.]\n",
      "  [ 56.  57.  62. ...  55.  57.  59.]]\n",
      "\n",
      " [[ 77.  74.  80. ...  91.  89.  74.]\n",
      "  [ 80.  77.  75. ...  83.  83.  80.]\n",
      "  [ 82.  84.  74. ...  82.  82.  85.]\n",
      "  ...\n",
      "  [117. 120. 124. ...  86.  95. 102.]\n",
      "  [115. 119. 127. ...  81.  87.  93.]\n",
      "  [102.  97. 110. ...  88.  91.  94.]]\n",
      "\n",
      " [[140. 139. 138. ... 143. 143. 142.]\n",
      "  [139. 138. 138. ... 144. 144. 143.]\n",
      "  [138. 138. 138. ... 145. 144. 144.]\n",
      "  ...\n",
      "  [152. 153. 153. ... 149. 148. 148.]\n",
      "  [152. 153. 153. ... 149. 149. 149.]\n",
      "  [151. 152. 153. ... 149. 149. 149.]]\n",
      "\n",
      " [[ 28.  28.  30. ...  33.  35.  27.]\n",
      "  [ 32.  29.  28. ...  33.  31.  31.]\n",
      "  [ 32.  31.  27. ...  28.  31.  31.]\n",
      "  ...\n",
      "  [ 59.  60.  64. ...  39.  45.  44.]\n",
      "  [ 59.  62.  65. ...  33.  38.  42.]\n",
      "  [ 53.  52.  58. ...  38.  39.  40.]]]\n"
     ]
    }
   ],
   "source": [
    "print(featuresBangalore)"
   ]
  },
  {
   "cell_type": "code",
   "execution_count": 25,
   "id": "3267c501",
   "metadata": {},
   "outputs": [
    {
     "name": "stdout",
     "output_type": "stream",
     "text": [
      "Bangalore multispectral image shape:  (6, 2054, 2044)\n",
      "Bangalore binary built-up image shape:  (2054, 2044)\n",
      "Guwahati multispectral image shape:  (6, 228, 313)\n"
     ]
    }
   ],
   "source": [
    "print(\"Bangalore multispectral image shape: \", featuresBangalore.shape)\n",
    "print(\"Bangalore binary built-up image shape: \", labelBangalore.shape)\n",
    "print(\"Guwahati multispectral image shape: \", Shillong_data.shape)"
   ]
  },
  {
   "cell_type": "code",
   "execution_count": 26,
   "id": "a1a7d3b7",
   "metadata": {},
   "outputs": [
    {
     "name": "stdout",
     "output_type": "stream",
     "text": [
      "The \"changeDimension()\" function has moved to \"array_to_table()\" and will be deprecated in future versions. Please check the pyrsgis documentation at https://pyrsgis.readthedocs.io/en/master/ for more details.\n",
      "The \"changeDimension()\" function has moved to \"array_to_table()\" and will be deprecated in future versions. Please check the pyrsgis documentation at https://pyrsgis.readthedocs.io/en/master/ for more details.\n",
      "The \"changeDimension()\" function has moved to \"array_to_table()\" and will be deprecated in future versions. Please check the pyrsgis documentation at https://pyrsgis.readthedocs.io/en/master/ for more details.\n"
     ]
    }
   ],
   "source": [
    "featuresBangalore = changeDimension(featuresBangalore)\n",
    "labelBangalore = changeDimension (labelBangalore)\n",
    "Shillong_data = changeDimension(Shillong_data)\n",
    "nBands = featuresBangalore.shape[1]\n",
    "labelBangalore = (labelBangalore == 1).astype(int)"
   ]
  },
  {
   "cell_type": "code",
   "execution_count": 27,
   "id": "910c3fbd",
   "metadata": {},
   "outputs": [
    {
     "name": "stdout",
     "output_type": "stream",
     "text": [
      "Bangalore multispectral image shape:  (4198376, 6)\n",
      "Bangalore binary built-up image shape:  (4198376,)\n",
      "Hyderabad multispectral image shape:  (71364, 6)\n"
     ]
    }
   ],
   "source": [
    "print(\"Bangalore multispectral image shape: \", featuresBangalore.shape)\n",
    "print(\"Bangalore binary built-up image shape: \", labelBangalore.shape)\n",
    "print(\"Hyderabad multispectral image shape: \", Shillong_data.shape)"
   ]
  },
  {
   "cell_type": "code",
   "execution_count": 31,
   "id": "006d069c",
   "metadata": {},
   "outputs": [
    {
     "name": "stdout",
     "output_type": "stream",
     "text": [
      "(2519025, 6)\n",
      "(2519025,)\n",
      "(1679351, 6)\n",
      "(1679351,)\n"
     ]
    }
   ],
   "source": [
    "xTrain, xTest, yTrain, yTest = train_test_split(featuresBangalore, labelBangalore, test_size=0.4, random_state=42)\n",
    "\n",
    "print(xTrain.shape)\n",
    "print(yTrain.shape)\n",
    "\n",
    "print(xTest.shape)\n",
    "print(yTest.shape)"
   ]
  },
  {
   "cell_type": "code",
   "execution_count": 32,
   "id": "4facc948",
   "metadata": {},
   "outputs": [
    {
     "name": "stdout",
     "output_type": "stream",
     "text": [
      "(2519025, 1, 6) (1679351, 1, 6) (71364, 6)\n"
     ]
    }
   ],
   "source": [
    "\n",
    "xTrain = xTrain / 255.0\n",
    "xTest = xTest / 255.0\n",
    "Shillong_data = Shillong_data/ 182.0\n",
    "\n",
    "\n",
    "xTrain = xTrain.reshape((xTrain.shape[0], 1, xTrain.shape[1]))\n",
    "xTest = xTest.reshape((xTest.shape[0], 1, xTest.shape[1]))\n",
    "Assam_data = Shillong_data.reshape((Shillong_data.shape[0], 1, Shillong_data.shape[1]))\n",
    "\n",
    "\n",
    "print(xTrain.shape, xTest.shape, Shillong_data.shape)"
   ]
  },
  {
   "cell_type": "code",
   "execution_count": 33,
   "id": "e47cd7ac",
   "metadata": {},
   "outputs": [
    {
     "name": "stdout",
     "output_type": "stream",
     "text": [
      "Epoch 1/2\n",
      "78720/78720 [==============================] - 70s 878us/step - loss: 0.1245 - accuracy: 0.9533\n",
      "Epoch 2/2\n",
      "78720/78720 [==============================] - 77s 979us/step - loss: 0.1081 - accuracy: 0.9591\n"
     ]
    },
    {
     "data": {
      "text/plain": [
       "<keras.callbacks.History at 0x1dc8278b188>"
      ]
     },
     "execution_count": 33,
     "metadata": {},
     "output_type": "execute_result"
    }
   ],
   "source": [
    "model = keras.Sequential([\n",
    "    keras.layers.Flatten(input_shape=(1, nBands)),\n",
    "    keras.layers.Dense(14, activation='relu'),\n",
    "    keras.layers.Dense(2, activation='softmax')])\n",
    "\n",
    "model.compile(optimizer=\"adam\", loss=\"sparse_categorical_crossentropy\", metrics=[\"accuracy\"])\n",
    "\n",
    "\n",
    "model.fit(xTrain, yTrain, epochs=2)"
   ]
  },
  {
   "cell_type": "code",
   "execution_count": 15,
   "id": "19626e98",
   "metadata": {},
   "outputs": [
    {
     "name": "stdout",
     "output_type": "stream",
     "text": [
      "52480/52480 [==============================] - 38s 728us/step\n"
     ]
    }
   ],
   "source": [
    "yTestPredicted = model.predict(xTest)\n",
    "yTestPredicted = yTestPredicted[:,1]"
   ]
  },
  {
   "cell_type": "code",
   "execution_count": 34,
   "id": "90873a2a",
   "metadata": {},
   "outputs": [
    {
     "name": "stdout",
     "output_type": "stream",
     "text": [
      "Confusion matrix: for 14 nodes\n",
      " [[1454336   26540]\n",
      " [  41871  156604]]\n",
      "\n",
      "P-Score: 0.855, R-Score: 0.789\n"
     ]
    }
   ],
   "source": [
    "yTestPredicted = (yTestPredicted>0.5).astype(int)\n",
    "cMatrix = confusion_matrix(yTest, yTestPredicted)\n",
    "pScore = precision_score(yTest, yTestPredicted)\n",
    "rScore = recall_score(yTest, yTestPredicted)\n",
    "\n",
    "print(\"Confusion matrix: for 14 nodes\\n\", cMatrix)\n",
    "print(\"\\nP-Score: %.3f, R-Score: %.3f\" % (pScore, rScore))"
   ]
  },
  {
   "cell_type": "code",
   "execution_count": 35,
   "id": "9b8594bc",
   "metadata": {},
   "outputs": [
    {
     "name": "stdout",
     "output_type": "stream",
     "text": [
      "2231/2231 [==============================] - 1s 585us/step\n"
     ]
    }
   ],
   "source": [
    "predicted = model.predict(Assam_data)\n",
    "predicted = predicted[:,1]"
   ]
  },
  {
   "cell_type": "code",
   "execution_count": 36,
   "id": "0465bf4c",
   "metadata": {},
   "outputs": [],
   "source": [
    "prediction = np.reshape(predicted, (ds3.RasterYSize, ds3.RasterXSize))\n",
    "outFile = 'Delhi_2011_BuiltupNN_predicted.tif'\n",
    "raster.export(prediction, ds3, filename=outFile, dtype='float')"
   ]
  }
 ],
 "metadata": {
  "kernelspec": {
   "display_name": "Python 3 (ipykernel)",
   "language": "python",
   "name": "python3"
  },
  "language_info": {
   "codemirror_mode": {
    "name": "ipython",
    "version": 3
   },
   "file_extension": ".py",
   "mimetype": "text/x-python",
   "name": "python",
   "nbconvert_exporter": "python",
   "pygments_lexer": "ipython3",
   "version": "3.7.9"
  }
 },
 "nbformat": 4,
 "nbformat_minor": 5
}
